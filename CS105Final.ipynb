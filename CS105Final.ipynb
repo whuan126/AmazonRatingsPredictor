{
 "cells": [
  {
   "attachments": {},
   "cell_type": "markdown",
   "metadata": {},
   "source": [
    "# CS105 Final Project"
   ]
  },
  {
   "cell_type": "code",
   "execution_count": null,
   "metadata": {},
   "outputs": [],
   "source": [
    "print(\"deez nuts!\")"
   ]
  }
 ],
 "metadata": {
  "kernelspec": {
   "display_name": "Python 3",
   "language": "python",
   "name": "python3"
  },
  "language_info": {
   "name": "python",
   "version": "3.10.0"
  },
  "orig_nbformat": 4,
  "vscode": {
   "interpreter": {
    "hash": "a9762498ba689a3e02831ca2efc3750b8f05cb0af915b6ebb42c687bd5ecab58"
   }
  }
 },
 "nbformat": 4,
 "nbformat_minor": 2
}
