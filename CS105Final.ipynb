{
 "cells": [
  {
   "cell_type": "markdown",
   "metadata": {},
   "source": [
    "# CS105 Final Project"
   ]
  },
  {
   "cell_type": "markdown",
   "metadata": {},
   "source": [
    "## 1.0 Library imports"
   ]
  },
  {
   "cell_type": "code",
   "execution_count": null,
   "metadata": {},
   "outputs": [],
   "source": [
    "import pandas as pd\n",
    "import numpy as np\n",
    "import json\n",
    "import gzip"
   ]
  },
  {
   "cell_type": "markdown",
   "metadata": {},
   "source": [
    "## 2.0 Meet and greet the data"
   ]
  },
  {
   "cell_type": "markdown",
   "metadata": {},
   "source": [
    "### 2.1 Load in data\n",
    "- Call function parse(path)\n",
    "- Call funcation getDF(path)\n",
    "- Return the dataframe in its correct form\n",
    "- A dataset should be split into two forms\n",
    "    - One will contain our main dataframe which will not be touched unless for comparisons with our modified df\n",
    "    - The second will contain our changed dataframe"
   ]
  },
  {
   "cell_type": "code",
   "execution_count": null,
   "metadata": {},
   "outputs": [],
   "source": [
    "\n",
    "def parse(path):\n",
    "  \"\"\" This function will parse the json file and returns the memory of all the rows\n",
    "\n",
    "  Args:\n",
    "      path (string): path directory of where your data is saved on your computer\n",
    "\n",
    "  Yields:\n",
    "      object: json\n",
    "  \"\"\"\n",
    "  g = gzip.open(path, 'rb')\n",
    "  for l in g:\n",
    "    yield json.loads(l)"
   ]
  },
  {
   "cell_type": "code",
   "execution_count": null,
   "metadata": {},
   "outputs": [],
   "source": [
    "def getDF(path):\n",
    "    \"\"\" This function will go through each row in the parse function and get the data into a pandas format\n",
    "\n",
    "    Args:\n",
    "        path (string): path directory of where your data is saved on your computer\n",
    "\n",
    "    Returns:\n",
    "       dataframe: main dataframe that holds our data\n",
    "    \"\"\"\n",
    "    i = 0\n",
    "    df = {}\n",
    "    for d in parse(path):\n",
    "        df[i] = d\n",
    "        i += 1\n",
    "    return pd.DataFrame.from_dict(df, orient='index')"
   ]
  },
  {
   "cell_type": "code",
   "execution_count": null,
   "metadata": {},
   "outputs": [],
   "source": [
    "# df = getDF(r'C:\\Users\\migue\\Downloads\\Cell_Phones_and_Accessories_5.json.gz')\n",
    "# data_copy = getDF(r'C:\\Users\\migue\\Downloads\\Cell_Phones_and_Accessories_5.json.gz')\n",
    "\n",
    "df = getDF('Cell_Phones_and_Accessories_5.json.gz')\n",
    "data_copy = getDF('Cell_Phones_and_Accessories_5.json.gz')"
   ]
  },
  {
   "cell_type": "markdown",
   "metadata": {},
   "source": [
    "### 2.2 Get familiar with the data \n",
    "- Get info from dataframe\n",
    "- Get a random sample\n",
    "- Check the length of the df\n",
    "- Check dtypes "
   ]
  },
  {
   "cell_type": "code",
   "execution_count": null,
   "metadata": {},
   "outputs": [],
   "source": [
    "data_copy.info()"
   ]
  },
  {
   "cell_type": "code",
   "execution_count": null,
   "metadata": {},
   "outputs": [],
   "source": [
    "data_copy.sample(1)"
   ]
  },
  {
   "cell_type": "code",
   "execution_count": null,
   "metadata": {},
   "outputs": [],
   "source": [
    "print(\"The total length of the dataset: \", len(data_copy))"
   ]
  },
  {
   "cell_type": "code",
   "execution_count": null,
   "metadata": {},
   "outputs": [],
   "source": [
    "print(\"The data types of each respective column: \")\n",
    "print(data_copy.dtypes)"
   ]
  },
  {
   "cell_type": "markdown",
   "metadata": {},
   "source": [
    "## 3.0 The 4 C's of data cleaning: completing, correction, creating, and converting"
   ]
  },
  {
   "cell_type": "markdown",
   "metadata": {},
   "source": [
    "### 3.1 Completing \n",
    "- Completing missing information"
   ]
  },
  {
   "cell_type": "code",
   "execution_count": null,
   "metadata": {},
   "outputs": [],
   "source": [
    "data_copy.isnull().sum()"
   ]
  },
  {
   "cell_type": "code",
   "execution_count": null,
   "metadata": {},
   "outputs": [],
   "source": [
    "def get_nan_ocols(df, nan_percent=0.7):\n",
    "    \"\"\" This function will determine what columns to drop based on our threshold\n",
    "\n",
    "    Args:\n",
    "        df (pandas df): dataframe that holds our data\n",
    "        nan_percent (float, optional): Defaults to 0.7.\n",
    "\n",
    "    Returns:\n",
    "        list: list of columns to drop based on our threshold\n",
    "    \"\"\"\n",
    "    threshold = len(df.index) * nan_percent\n",
    "    return [c for c in df.columns if df[c].isnull().sum() >= threshold]"
   ]
  },
  {
   "cell_type": "code",
   "execution_count": null,
   "metadata": {},
   "outputs": [],
   "source": [
    "cols_to_del = get_nan_ocols(data_copy, .7)"
   ]
  },
  {
   "cell_type": "code",
   "execution_count": null,
   "metadata": {},
   "outputs": [],
   "source": [
    "cols_to_del"
   ]
  },
  {
   "cell_type": "code",
   "execution_count": null,
   "metadata": {},
   "outputs": [],
   "source": [
    "data_copy = data_copy.drop(['vote', 'image'], axis=1)"
   ]
  },
  {
   "cell_type": "code",
   "execution_count": null,
   "metadata": {},
   "outputs": [],
   "source": [
    "data_copy.sample(1)"
   ]
  },
  {
   "cell_type": "markdown",
   "metadata": {},
   "source": [
    "### 3.2 Correction\n",
    "- Correcting values and outliers\n",
    "- We could have possible outliers in any of the numeric columns"
   ]
  },
  {
   "cell_type": "code",
   "execution_count": null,
   "metadata": {},
   "outputs": [],
   "source": []
  },
  {
   "cell_type": "markdown",
   "metadata": {},
   "source": [
    "### 3.4 Converting \n",
    "- Converting fields to the correct format for calculations and presentation"
   ]
  },
  {
   "cell_type": "markdown",
   "metadata": {},
   "source": [
    "### 3.3 Feature engineering\n",
    "- Creating new features for analysis"
   ]
  },
  {
   "cell_type": "markdown",
   "metadata": {},
   "source": [
    "## 4.0 Build model"
   ]
  },
  {
   "cell_type": "markdown",
   "metadata": {},
   "source": [
    "## 5.0 Evaluate model"
   ]
  },
  {
   "cell_type": "markdown",
   "metadata": {},
   "source": [
    "## 6.0 Predictions"
   ]
  },
  {
   "cell_type": "markdown",
   "metadata": {},
   "source": [
    "## 7.0 If predictions suck, hyperparameter tune"
   ]
  },
  {
   "cell_type": "markdown",
   "metadata": {},
   "source": [
    "## 8.0 Repeat steps 4-7 until satisfied"
   ]
  }
 ],
 "metadata": {
  "kernelspec": {
   "display_name": "Python 3 (ipykernel)",
   "language": "python",
   "name": "python3"
  },
  "language_info": {
   "codemirror_mode": {
    "name": "ipython",
    "version": 3
   },
   "file_extension": ".py",
   "mimetype": "text/x-python",
   "name": "python",
   "nbconvert_exporter": "python",
   "pygments_lexer": "ipython3",
   "version": "3.9.7"
  },
  "vscode": {
   "interpreter": {
    "hash": "a9762498ba689a3e02831ca2efc3750b8f05cb0af915b6ebb42c687bd5ecab58"
   }
  }
 },
 "nbformat": 4,
 "nbformat_minor": 2
}
