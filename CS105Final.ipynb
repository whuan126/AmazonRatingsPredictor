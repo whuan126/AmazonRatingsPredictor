{
 "cells": [
  {
   "cell_type": "markdown",
   "metadata": {},
   "source": [
    "# CS105 Final Project"
   ]
  },
  {
   "cell_type": "markdown",
   "metadata": {},
   "source": [
    "## 1.0 Library imports"
   ]
  },
  {
   "cell_type": "code",
   "execution_count": 2,
   "metadata": {},
   "outputs": [],
   "source": [
    "import pandas as pd\n",
    "import numpy as np\n",
    "import json\n",
    "import gzip"
   ]
  },
  {
   "cell_type": "markdown",
   "metadata": {},
   "source": [
    "## 2.0 Meet and greet the data"
   ]
  },
  {
   "cell_type": "markdown",
   "metadata": {},
   "source": [
    "### 2.1 Load in data\n",
    "- Call function parse(path)\n",
    "- Call funcation getDF(path)\n",
    "- Return the dataframe in its correct form\n",
    "- A dataset should be split into two forms\n",
    "    - One will contain our main dataframe which will not be touched unless for comparisons with our modified df\n",
    "    - The second will contain our changed dataframe"
   ]
  },
  {
   "cell_type": "code",
   "execution_count": 3,
   "metadata": {},
   "outputs": [],
   "source": [
    "\n",
    "def parse(path):\n",
    "  \"\"\" This function will parse the json file and returns the memory of all the rows\n",
    "\n",
    "  Args:\n",
    "      path (string): path directory of where your data is saved on your computer\n",
    "\n",
    "  Yields:\n",
    "      object: json\n",
    "  \"\"\"\n",
    "  g = gzip.open(path, 'rb')\n",
    "  for l in g:\n",
    "    yield json.loads(l)"
   ]
  },
  {
   "cell_type": "code",
   "execution_count": 4,
   "metadata": {},
   "outputs": [],
   "source": [
    "def getDF(path):\n",
    "    \"\"\" This function will go through each row in the parse function and get the data into a pandas format\n",
    "\n",
    "    Args:\n",
    "        path (string): path directory of where your data is saved on your computer\n",
    "\n",
    "    Returns:\n",
    "       dataframe: main dataframe that holds our data\n",
    "    \"\"\"\n",
    "    i = 0\n",
    "    df = {}\n",
    "    for d in parse(path):\n",
    "        df[i] = d\n",
    "        i += 1\n",
    "    return pd.DataFrame.from_dict(df, orient='index')"
   ]
  },
  {
   "cell_type": "code",
   "execution_count": 5,
   "metadata": {},
   "outputs": [],
   "source": [
    "# df = getDF(r'C:\\Users\\migue\\Downloads\\Cell_Phones_and_Accessories_5.json.gz')\n",
    "# data_copy = getDF(r'C:\\Users\\migue\\Downloads\\Cell_Phones_and_Accessories_5.json.gz')\n",
    "\n",
    "df = getDF('Cell_Phones_and_Accessories_5.json.gz')\n",
    "data_copy = getDF('Cell_Phones_and_Accessories_5.json.gz')"
   ]
  },
  {
   "cell_type": "markdown",
   "metadata": {},
   "source": [
    "### 2.2 Get familiar with the data \n",
    "- Get info from dataframe\n",
    "- Get a random sample\n",
    "- Check the length of the df\n",
    "- Check dtypes "
   ]
  },
  {
   "cell_type": "code",
   "execution_count": 6,
   "metadata": {},
   "outputs": [
    {
     "name": "stdout",
     "output_type": "stream",
     "text": [
      "<class 'pandas.core.frame.DataFrame'>\n",
      "Int64Index: 1128437 entries, 0 to 1128436\n",
      "Data columns (total 12 columns):\n",
      " #   Column          Non-Null Count    Dtype  \n",
      "---  ------          --------------    -----  \n",
      " 0   overall         1128437 non-null  float64\n",
      " 1   verified        1128437 non-null  bool   \n",
      " 2   reviewTime      1128437 non-null  object \n",
      " 3   reviewerID      1128437 non-null  object \n",
      " 4   asin            1128437 non-null  object \n",
      " 5   style           605241 non-null   object \n",
      " 6   reviewerName    1128302 non-null  object \n",
      " 7   reviewText      1127672 non-null  object \n",
      " 8   summary         1127920 non-null  object \n",
      " 9   unixReviewTime  1128437 non-null  int64  \n",
      " 10  vote            92034 non-null    object \n",
      " 11  image           27107 non-null    object \n",
      "dtypes: bool(1), float64(1), int64(1), object(9)\n",
      "memory usage: 104.4+ MB\n"
     ]
    }
   ],
   "source": [
    "data_copy.info()"
   ]
  },
  {
   "cell_type": "code",
   "execution_count": 7,
   "metadata": {},
   "outputs": [
    {
     "data": {
      "text/html": [
       "<div>\n",
       "<style scoped>\n",
       "    .dataframe tbody tr th:only-of-type {\n",
       "        vertical-align: middle;\n",
       "    }\n",
       "\n",
       "    .dataframe tbody tr th {\n",
       "        vertical-align: top;\n",
       "    }\n",
       "\n",
       "    .dataframe thead th {\n",
       "        text-align: right;\n",
       "    }\n",
       "</style>\n",
       "<table border=\"1\" class=\"dataframe\">\n",
       "  <thead>\n",
       "    <tr style=\"text-align: right;\">\n",
       "      <th></th>\n",
       "      <th>overall</th>\n",
       "      <th>verified</th>\n",
       "      <th>reviewTime</th>\n",
       "      <th>reviewerID</th>\n",
       "      <th>asin</th>\n",
       "      <th>style</th>\n",
       "      <th>reviewerName</th>\n",
       "      <th>reviewText</th>\n",
       "      <th>summary</th>\n",
       "      <th>unixReviewTime</th>\n",
       "      <th>vote</th>\n",
       "      <th>image</th>\n",
       "    </tr>\n",
       "  </thead>\n",
       "  <tbody>\n",
       "    <tr>\n",
       "      <th>393080</th>\n",
       "      <td>5.0</td>\n",
       "      <td>True</td>\n",
       "      <td>12 16, 2014</td>\n",
       "      <td>A2FI4CSBZGNM16</td>\n",
       "      <td>B00ITILPZ4</td>\n",
       "      <td>NaN</td>\n",
       "      <td>Smokey</td>\n",
       "      <td>Very sturdy material</td>\n",
       "      <td>Five Stars</td>\n",
       "      <td>1418688000</td>\n",
       "      <td>NaN</td>\n",
       "      <td>NaN</td>\n",
       "    </tr>\n",
       "  </tbody>\n",
       "</table>\n",
       "</div>"
      ],
      "text/plain": [
       "        overall  verified   reviewTime      reviewerID        asin style  \\\n",
       "393080      5.0      True  12 16, 2014  A2FI4CSBZGNM16  B00ITILPZ4   NaN   \n",
       "\n",
       "       reviewerName            reviewText     summary  unixReviewTime vote  \\\n",
       "393080       Smokey  Very sturdy material  Five Stars      1418688000  NaN   \n",
       "\n",
       "       image  \n",
       "393080   NaN  "
      ]
     },
     "execution_count": 7,
     "metadata": {},
     "output_type": "execute_result"
    }
   ],
   "source": [
    "data_copy.sample(1)"
   ]
  },
  {
   "cell_type": "code",
   "execution_count": 8,
   "metadata": {},
   "outputs": [
    {
     "name": "stdout",
     "output_type": "stream",
     "text": [
      "The total length of the dataset:  1128437\n"
     ]
    }
   ],
   "source": [
    "print(\"The total length of the dataset: \", len(data_copy))"
   ]
  },
  {
   "cell_type": "code",
   "execution_count": 9,
   "metadata": {},
   "outputs": [
    {
     "name": "stdout",
     "output_type": "stream",
     "text": [
      "The data types of each respective column: \n",
      "overall           float64\n",
      "verified             bool\n",
      "reviewTime         object\n",
      "reviewerID         object\n",
      "asin               object\n",
      "style              object\n",
      "reviewerName       object\n",
      "reviewText         object\n",
      "summary            object\n",
      "unixReviewTime      int64\n",
      "vote               object\n",
      "image              object\n",
      "dtype: object\n"
     ]
    }
   ],
   "source": [
    "print(\"The data types of each respective column: \")\n",
    "print(data_copy.dtypes)"
   ]
  },
  {
   "cell_type": "code",
   "execution_count": 10,
   "metadata": {},
   "outputs": [
    {
     "name": "stdout",
     "output_type": "stream",
     "text": [
      "The shape of the dataset:  (1128437, 12)\n"
     ]
    }
   ],
   "source": [
    "print(\"The shape of the dataset: \", data_copy.shape)"
   ]
  },
  {
   "cell_type": "code",
   "execution_count": 11,
   "metadata": {},
   "outputs": [
    {
     "name": "stdout",
     "output_type": "stream",
     "text": [
      "Statistical analysis of the numerical values in the dataset: \n"
     ]
    },
    {
     "data": {
      "text/html": [
       "<div>\n",
       "<style scoped>\n",
       "    .dataframe tbody tr th:only-of-type {\n",
       "        vertical-align: middle;\n",
       "    }\n",
       "\n",
       "    .dataframe tbody tr th {\n",
       "        vertical-align: top;\n",
       "    }\n",
       "\n",
       "    .dataframe thead th {\n",
       "        text-align: right;\n",
       "    }\n",
       "</style>\n",
       "<table border=\"1\" class=\"dataframe\">\n",
       "  <thead>\n",
       "    <tr style=\"text-align: right;\">\n",
       "      <th></th>\n",
       "      <th>count</th>\n",
       "      <th>mean</th>\n",
       "      <th>std</th>\n",
       "      <th>min</th>\n",
       "      <th>25%</th>\n",
       "      <th>50%</th>\n",
       "      <th>75%</th>\n",
       "      <th>max</th>\n",
       "    </tr>\n",
       "  </thead>\n",
       "  <tbody>\n",
       "    <tr>\n",
       "      <th>overall</th>\n",
       "      <td>1128437.0</td>\n",
       "      <td>4.221383e+00</td>\n",
       "      <td>1.231917e+00</td>\n",
       "      <td>1.000000e+00</td>\n",
       "      <td>4.000000e+00</td>\n",
       "      <td>5.000000e+00</td>\n",
       "      <td>5.000000e+00</td>\n",
       "      <td>5.000000e+00</td>\n",
       "    </tr>\n",
       "    <tr>\n",
       "      <th>unixReviewTime</th>\n",
       "      <td>1128437.0</td>\n",
       "      <td>1.440400e+09</td>\n",
       "      <td>4.569215e+07</td>\n",
       "      <td>1.035331e+09</td>\n",
       "      <td>1.416355e+09</td>\n",
       "      <td>1.444349e+09</td>\n",
       "      <td>1.470442e+09</td>\n",
       "      <td>1.538438e+09</td>\n",
       "    </tr>\n",
       "  </tbody>\n",
       "</table>\n",
       "</div>"
      ],
      "text/plain": [
       "                    count          mean           std           min  \\\n",
       "overall         1128437.0  4.221383e+00  1.231917e+00  1.000000e+00   \n",
       "unixReviewTime  1128437.0  1.440400e+09  4.569215e+07  1.035331e+09   \n",
       "\n",
       "                         25%           50%           75%           max  \n",
       "overall         4.000000e+00  5.000000e+00  5.000000e+00  5.000000e+00  \n",
       "unixReviewTime  1.416355e+09  1.444349e+09  1.470442e+09  1.538438e+09  "
      ]
     },
     "execution_count": 11,
     "metadata": {},
     "output_type": "execute_result"
    }
   ],
   "source": [
    "print(\"Statistical analysis of the numerical values in the dataset: \")\n",
    "data_copy.describe().transpose()"
   ]
  },
  {
   "cell_type": "markdown",
   "metadata": {},
   "source": [
    "## 3.0 The 4 C's of data cleaning: completing, correction, creating, and converting"
   ]
  },
  {
   "cell_type": "markdown",
   "metadata": {},
   "source": [
    "### 3.1 Completing \n",
    "- Completing missing information"
   ]
  },
  {
   "cell_type": "code",
   "execution_count": null,
   "metadata": {},
   "outputs": [],
   "source": [
    "data_copy.isnull().sum()"
   ]
  },
  {
   "cell_type": "code",
   "execution_count": null,
   "metadata": {},
   "outputs": [],
   "source": [
    "def get_nan_ocols(df, nan_percent=0.7):\n",
    "    \"\"\" This function will determine what columns to drop based on our threshold\n",
    "\n",
    "    Args:\n",
    "        df (pandas df): dataframe that holds our data\n",
    "        nan_percent (float, optional): Defaults to 0.7.\n",
    "\n",
    "    Returns:\n",
    "        list: list of columns to drop based on our threshold\n",
    "    \"\"\"\n",
    "    threshold = len(df.index) * nan_percent\n",
    "    return [c for c in df.columns if df[c].isnull().sum() >= threshold]"
   ]
  },
  {
   "cell_type": "code",
   "execution_count": null,
   "metadata": {},
   "outputs": [],
   "source": [
    "cols_to_del = get_nan_ocols(data_copy, .7)"
   ]
  },
  {
   "cell_type": "code",
   "execution_count": null,
   "metadata": {},
   "outputs": [],
   "source": [
    "cols_to_del"
   ]
  },
  {
   "cell_type": "code",
   "execution_count": null,
   "metadata": {},
   "outputs": [],
   "source": [
    "data_copy = data_copy.drop(['vote', 'image'], axis=1)"
   ]
  },
  {
   "cell_type": "code",
   "execution_count": null,
   "metadata": {},
   "outputs": [],
   "source": [
    "data_copy.sample(1)"
   ]
  },
  {
   "cell_type": "markdown",
   "metadata": {},
   "source": [
    "### 3.2 Correction\n",
    "- Correcting values and outliers\n",
    "- We could have possible outliers in any of the numeric columns"
   ]
  },
  {
   "cell_type": "code",
   "execution_count": null,
   "metadata": {},
   "outputs": [],
   "source": []
  },
  {
   "cell_type": "markdown",
   "metadata": {},
   "source": [
    "### 3.4 Converting \n",
    "- Converting fields to the correct format for calculations and presentation"
   ]
  },
  {
   "cell_type": "markdown",
   "metadata": {},
   "source": [
    "### 3.3 Feature engineering\n",
    "- Creating new features for analysis"
   ]
  },
  {
   "cell_type": "markdown",
   "metadata": {},
   "source": [
    "## 4.0 Build model"
   ]
  },
  {
   "cell_type": "markdown",
   "metadata": {},
   "source": [
    "## 5.0 Evaluate model"
   ]
  },
  {
   "cell_type": "markdown",
   "metadata": {},
   "source": [
    "## 6.0 Predictions"
   ]
  },
  {
   "cell_type": "markdown",
   "metadata": {},
   "source": [
    "## 7.0 If predictions suck, hyperparameter tune"
   ]
  },
  {
   "cell_type": "markdown",
   "metadata": {},
   "source": [
    "## 8.0 Repeat steps 4-7 until satisfied"
   ]
  }
 ],
 "metadata": {
  "kernelspec": {
   "display_name": "Python 3 (ipykernel)",
   "language": "python",
   "name": "python3"
  },
  "language_info": {
   "codemirror_mode": {
    "name": "ipython",
    "version": 3
   },
   "file_extension": ".py",
   "mimetype": "text/x-python",
   "name": "python",
   "nbconvert_exporter": "python",
   "pygments_lexer": "ipython3",
   "version": "3.11.2"
  },
  "vscode": {
   "interpreter": {
    "hash": "a9762498ba689a3e02831ca2efc3750b8f05cb0af915b6ebb42c687bd5ecab58"
   }
  }
 },
 "nbformat": 4,
 "nbformat_minor": 2
}
